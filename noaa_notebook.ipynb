{
 "cells": [
  {
   "cell_type": "markdown",
   "metadata": {},
   "source": [
    "## Loading the CSV files from Cloud Storage"
   ]
  },
  {
   "cell_type": "code",
   "execution_count": 4,
   "metadata": {},
   "outputs": [],
   "source": [
    "dataset_id = \"weather_staging\""
   ]
  },
  {
   "cell_type": "code",
   "execution_count": 5,
   "metadata": {},
   "outputs": [
    {
     "name": "stdout",
     "output_type": "stream",
     "text": [
      "BigQuery error in mk operation: Dataset 'uber-fair:weather_staging' already\n",
      "exists.\n"
     ]
    }
   ],
   "source": [
    "!bq --location=US mk --dataset {dataset_id}"
   ]
  },
  {
   "cell_type": "code",
   "execution_count": 6,
   "metadata": {},
   "outputs": [
    {
     "name": "stdout",
     "output_type": "stream",
     "text": [
      "Waiting on bqjob_r7653d25e8c96587a_0000016e707f927d_1 ... (1s) Current status: DONE   \n"
     ]
    }
   ],
   "source": [
    "!bq --location=US load --autodetect --skip_leading_rows=1 --source_format=CSV {dataset_id}.weather \\\n",
    "'gs://uber_fair_data/dataset1/weather.csv'"
   ]
  },
  {
   "cell_type": "code",
   "execution_count": 7,
   "metadata": {},
   "outputs": [
    {
     "data": {
      "text/html": [
       "<div>\n",
       "<style scoped>\n",
       "    .dataframe tbody tr th:only-of-type {\n",
       "        vertical-align: middle;\n",
       "    }\n",
       "\n",
       "    .dataframe tbody tr th {\n",
       "        vertical-align: top;\n",
       "    }\n",
       "\n",
       "    .dataframe thead th {\n",
       "        text-align: right;\n",
       "    }\n",
       "</style>\n",
       "<table border=\"1\" class=\"dataframe\">\n",
       "  <thead>\n",
       "    <tr style=\"text-align: right;\">\n",
       "      <th></th>\n",
       "      <th>f0_</th>\n",
       "    </tr>\n",
       "  </thead>\n",
       "  <tbody>\n",
       "    <tr>\n",
       "      <td>0</td>\n",
       "      <td>6276</td>\n",
       "    </tr>\n",
       "  </tbody>\n",
       "</table>\n",
       "</div>"
      ],
      "text/plain": [
       "    f0_\n",
       "0  6276"
      ]
     },
     "execution_count": 7,
     "metadata": {},
     "output_type": "execute_result"
    }
   ],
   "source": [
    "%%bigquery \n",
    "select count(*) from weather_staging.weather"
   ]
  },
  {
   "cell_type": "markdown",
   "metadata": {},
   "source": [
    "## Creating modeled tables"
   ]
  },
  {
   "cell_type": "code",
   "execution_count": 9,
   "metadata": {},
   "outputs": [],
   "source": [
    "modeled_dataset_id = \"weather_modeled\""
   ]
  },
  {
   "cell_type": "code",
   "execution_count": 10,
   "metadata": {},
   "outputs": [
    {
     "name": "stdout",
     "output_type": "stream",
     "text": [
      "Dataset 'uber-fair:weather_modeled' successfully created.\n"
     ]
    }
   ],
   "source": [
    "!bq --location=US mk --dataset {modeled_dataset_id}"
   ]
  },
  {
   "cell_type": "code",
   "execution_count": 13,
   "metadata": {},
   "outputs": [
    {
     "data": {
      "text/html": [
       "<div>\n",
       "<style scoped>\n",
       "    .dataframe tbody tr th:only-of-type {\n",
       "        vertical-align: middle;\n",
       "    }\n",
       "\n",
       "    .dataframe tbody tr th {\n",
       "        vertical-align: top;\n",
       "    }\n",
       "\n",
       "    .dataframe thead th {\n",
       "        text-align: right;\n",
       "    }\n",
       "</style>\n",
       "<table border=\"1\" class=\"dataframe\">\n",
       "  <thead>\n",
       "    <tr style=\"text-align: right;\">\n",
       "      <th></th>\n",
       "    </tr>\n",
       "  </thead>\n",
       "  <tbody>\n",
       "  </tbody>\n",
       "</table>\n",
       "</div>"
      ],
      "text/plain": [
       "Empty DataFrame\n",
       "Columns: []\n",
       "Index: []"
      ]
     },
     "execution_count": 13,
     "metadata": {},
     "output_type": "execute_result"
    }
   ],
   "source": [
    "%%bigquery\n",
    "create or replace table weather_modeled.weather as \n",
    "select temp, location, clouds, pressure, rain, time_stamp, humidity, wind, '' as id\n",
    "from weather_staging.weather"
   ]
  },
  {
   "cell_type": "code",
   "execution_count": 14,
   "metadata": {},
   "outputs": [
    {
     "data": {
      "text/html": [
       "<div>\n",
       "<style scoped>\n",
       "    .dataframe tbody tr th:only-of-type {\n",
       "        vertical-align: middle;\n",
       "    }\n",
       "\n",
       "    .dataframe tbody tr th {\n",
       "        vertical-align: top;\n",
       "    }\n",
       "\n",
       "    .dataframe thead th {\n",
       "        text-align: right;\n",
       "    }\n",
       "</style>\n",
       "<table border=\"1\" class=\"dataframe\">\n",
       "  <thead>\n",
       "    <tr style=\"text-align: right;\">\n",
       "      <th></th>\n",
       "    </tr>\n",
       "  </thead>\n",
       "  <tbody>\n",
       "  </tbody>\n",
       "</table>\n",
       "</div>"
      ],
      "text/plain": [
       "Empty DataFrame\n",
       "Columns: []\n",
       "Index: []"
      ]
     },
     "execution_count": 14,
     "metadata": {},
     "output_type": "execute_result"
    }
   ],
   "source": [
    "%%bigquery\n",
    "update weather_modeled.weather set id = GENERATE_UUID() where id = ''"
   ]
  },
  {
   "cell_type": "code",
   "execution_count": 15,
   "metadata": {},
   "outputs": [
    {
     "data": {
      "text/html": [
       "<div>\n",
       "<style scoped>\n",
       "    .dataframe tbody tr th:only-of-type {\n",
       "        vertical-align: middle;\n",
       "    }\n",
       "\n",
       "    .dataframe tbody tr th {\n",
       "        vertical-align: top;\n",
       "    }\n",
       "\n",
       "    .dataframe thead th {\n",
       "        text-align: right;\n",
       "    }\n",
       "</style>\n",
       "<table border=\"1\" class=\"dataframe\">\n",
       "  <thead>\n",
       "    <tr style=\"text-align: right;\">\n",
       "      <th></th>\n",
       "      <th>temp</th>\n",
       "      <th>location</th>\n",
       "      <th>clouds</th>\n",
       "      <th>pressure</th>\n",
       "      <th>rain</th>\n",
       "      <th>time_stamp</th>\n",
       "      <th>humidity</th>\n",
       "      <th>wind</th>\n",
       "      <th>id</th>\n",
       "    </tr>\n",
       "  </thead>\n",
       "  <tbody>\n",
       "    <tr>\n",
       "      <td>0</td>\n",
       "      <td>36.33</td>\n",
       "      <td>Boston University</td>\n",
       "      <td>0.0</td>\n",
       "      <td>1012.38</td>\n",
       "      <td>None</td>\n",
       "      <td>1543546374</td>\n",
       "      <td>0.68</td>\n",
       "      <td>6.70</td>\n",
       "      <td>d64d75db-87cd-452b-8bc7-6dcaf0a6db1e</td>\n",
       "    </tr>\n",
       "    <tr>\n",
       "      <td>1</td>\n",
       "      <td>36.35</td>\n",
       "      <td>Haymarket Square</td>\n",
       "      <td>0.0</td>\n",
       "      <td>1012.37</td>\n",
       "      <td>None</td>\n",
       "      <td>1543546374</td>\n",
       "      <td>0.68</td>\n",
       "      <td>6.87</td>\n",
       "      <td>b041d6c2-c850-4c42-a5f7-7a29020d8f44</td>\n",
       "    </tr>\n",
       "    <tr>\n",
       "      <td>2</td>\n",
       "      <td>36.38</td>\n",
       "      <td>North End</td>\n",
       "      <td>0.0</td>\n",
       "      <td>1012.37</td>\n",
       "      <td>None</td>\n",
       "      <td>1543546374</td>\n",
       "      <td>0.68</td>\n",
       "      <td>6.89</td>\n",
       "      <td>a962c95c-caf1-4aa7-bd16-47235ea56e65</td>\n",
       "    </tr>\n",
       "    <tr>\n",
       "      <td>3</td>\n",
       "      <td>36.89</td>\n",
       "      <td>Financial District</td>\n",
       "      <td>0.0</td>\n",
       "      <td>1012.38</td>\n",
       "      <td>None</td>\n",
       "      <td>1543546374</td>\n",
       "      <td>0.67</td>\n",
       "      <td>6.89</td>\n",
       "      <td>3463b2f2-6326-4237-bf17-df2301e16e83</td>\n",
       "    </tr>\n",
       "    <tr>\n",
       "      <td>4</td>\n",
       "      <td>36.24</td>\n",
       "      <td>Fenway</td>\n",
       "      <td>0.0</td>\n",
       "      <td>1012.38</td>\n",
       "      <td>None</td>\n",
       "      <td>1543546374</td>\n",
       "      <td>0.69</td>\n",
       "      <td>6.72</td>\n",
       "      <td>0533eb82-e9ac-43a5-beb5-7c1ce3cfd529</td>\n",
       "    </tr>\n",
       "    <tr>\n",
       "      <td>5</td>\n",
       "      <td>36.87</td>\n",
       "      <td>South Station</td>\n",
       "      <td>0.0</td>\n",
       "      <td>1012.38</td>\n",
       "      <td>None</td>\n",
       "      <td>1543546374</td>\n",
       "      <td>0.67</td>\n",
       "      <td>6.89</td>\n",
       "      <td>e44b7a38-d203-4384-bdf4-bd5c1cedbf6f</td>\n",
       "    </tr>\n",
       "    <tr>\n",
       "      <td>6</td>\n",
       "      <td>36.25</td>\n",
       "      <td>Northeastern University</td>\n",
       "      <td>0.0</td>\n",
       "      <td>1012.38</td>\n",
       "      <td>None</td>\n",
       "      <td>1543546374</td>\n",
       "      <td>0.69</td>\n",
       "      <td>6.77</td>\n",
       "      <td>16e52eef-2db5-4b6f-9f71-fff9f477a4ef</td>\n",
       "    </tr>\n",
       "    <tr>\n",
       "      <td>7</td>\n",
       "      <td>36.36</td>\n",
       "      <td>Back Bay</td>\n",
       "      <td>0.0</td>\n",
       "      <td>1012.38</td>\n",
       "      <td>None</td>\n",
       "      <td>1543546374</td>\n",
       "      <td>0.68</td>\n",
       "      <td>6.79</td>\n",
       "      <td>f938e922-e3fc-4445-8c26-6ef7e527a65a</td>\n",
       "    </tr>\n",
       "    <tr>\n",
       "      <td>8</td>\n",
       "      <td>36.26</td>\n",
       "      <td>West End</td>\n",
       "      <td>0.0</td>\n",
       "      <td>1012.37</td>\n",
       "      <td>None</td>\n",
       "      <td>1543546374</td>\n",
       "      <td>0.69</td>\n",
       "      <td>6.84</td>\n",
       "      <td>e772e159-4a0e-46f5-9d6c-f21cc0bec08e</td>\n",
       "    </tr>\n",
       "    <tr>\n",
       "      <td>9</td>\n",
       "      <td>36.34</td>\n",
       "      <td>Beacon Hill</td>\n",
       "      <td>0.0</td>\n",
       "      <td>1012.38</td>\n",
       "      <td>None</td>\n",
       "      <td>1543546374</td>\n",
       "      <td>0.68</td>\n",
       "      <td>6.83</td>\n",
       "      <td>21ca67fe-d2db-4995-90fa-438edd92e7d1</td>\n",
       "    </tr>\n",
       "  </tbody>\n",
       "</table>\n",
       "</div>"
      ],
      "text/plain": [
       "    temp                 location  clouds  pressure  rain  time_stamp  \\\n",
       "0  36.33        Boston University     0.0   1012.38  None  1543546374   \n",
       "1  36.35         Haymarket Square     0.0   1012.37  None  1543546374   \n",
       "2  36.38                North End     0.0   1012.37  None  1543546374   \n",
       "3  36.89       Financial District     0.0   1012.38  None  1543546374   \n",
       "4  36.24                   Fenway     0.0   1012.38  None  1543546374   \n",
       "5  36.87            South Station     0.0   1012.38  None  1543546374   \n",
       "6  36.25  Northeastern University     0.0   1012.38  None  1543546374   \n",
       "7  36.36                 Back Bay     0.0   1012.38  None  1543546374   \n",
       "8  36.26                 West End     0.0   1012.37  None  1543546374   \n",
       "9  36.34              Beacon Hill     0.0   1012.38  None  1543546374   \n",
       "\n",
       "   humidity  wind                                    id  \n",
       "0      0.68  6.70  d64d75db-87cd-452b-8bc7-6dcaf0a6db1e  \n",
       "1      0.68  6.87  b041d6c2-c850-4c42-a5f7-7a29020d8f44  \n",
       "2      0.68  6.89  a962c95c-caf1-4aa7-bd16-47235ea56e65  \n",
       "3      0.67  6.89  3463b2f2-6326-4237-bf17-df2301e16e83  \n",
       "4      0.69  6.72  0533eb82-e9ac-43a5-beb5-7c1ce3cfd529  \n",
       "5      0.67  6.89  e44b7a38-d203-4384-bdf4-bd5c1cedbf6f  \n",
       "6      0.69  6.77  16e52eef-2db5-4b6f-9f71-fff9f477a4ef  \n",
       "7      0.68  6.79  f938e922-e3fc-4445-8c26-6ef7e527a65a  \n",
       "8      0.69  6.84  e772e159-4a0e-46f5-9d6c-f21cc0bec08e  \n",
       "9      0.68  6.83  21ca67fe-d2db-4995-90fa-438edd92e7d1  "
      ]
     },
     "execution_count": 15,
     "metadata": {},
     "output_type": "execute_result"
    }
   ],
   "source": [
    "%%bigquery\n",
    "select * from weather_modeled.weather limit 10"
   ]
  },
  {
   "cell_type": "code",
   "execution_count": null,
   "metadata": {},
   "outputs": [],
   "source": []
  }
 ],
 "metadata": {
  "kernelspec": {
   "display_name": "Python 3",
   "language": "python",
   "name": "python3"
  },
  "language_info": {
   "codemirror_mode": {
    "name": "ipython",
    "version": 3
   },
   "file_extension": ".py",
   "mimetype": "text/x-python",
   "name": "python",
   "nbconvert_exporter": "python",
   "pygments_lexer": "ipython3",
   "version": "3.5.3"
  }
 },
 "nbformat": 4,
 "nbformat_minor": 4
}
